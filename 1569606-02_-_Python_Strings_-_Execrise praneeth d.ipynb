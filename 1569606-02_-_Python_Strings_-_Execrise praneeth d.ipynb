{
 "cells": [
  {
   "cell_type": "markdown",
   "id": "577e568f",
   "metadata": {},
   "source": [
    "### 1. Write a python program to convert a string to lower case"
   ]
  },
  {
   "cell_type": "code",
   "execution_count": 1,
   "id": "17ef24c2",
   "metadata": {},
   "outputs": [
    {
     "data": {
      "text/plain": [
       "'praneeth'"
      ]
     },
     "execution_count": 1,
     "metadata": {},
     "output_type": "execute_result"
    }
   ],
   "source": [
    "p=\"Praneeth\"\n",
    "p.lower()"
   ]
  },
  {
   "cell_type": "markdown",
   "id": "858930ce",
   "metadata": {},
   "source": [
    "### 2. Write a python program to convert only odd indexed characters to lower case\n",
    "+ Ex: PYTHON\n",
    "+ Output: - PyThOn"
   ]
  },
  {
   "cell_type": "code",
   "execution_count": 2,
   "id": "4e8c0b79",
   "metadata": {},
   "outputs": [
    {
     "name": "stdout",
     "output_type": "stream",
     "text": [
      " PyThOn\n"
     ]
    }
   ],
   "source": [
    "p=\"PYTHON\"\n",
    "s=\" \"\n",
    "for i in range(len(p)):\n",
    "    if not i%2:\n",
    "        s=s+p[i].upper()\n",
    "    else:\n",
    "        s=s+p[i].lower()\n",
    "print(str(s))\n"
   ]
  },
  {
   "cell_type": "markdown",
   "id": "7988e29d",
   "metadata": {},
   "source": [
    "### 3. Write a python program to convert only even indexed characters to lower case\n",
    "+ Ex: PYTHON\n",
    "+ Output: - pYtHoN\n"
   ]
  },
  {
   "cell_type": "code",
   "execution_count": 3,
   "id": "c4009862",
   "metadata": {},
   "outputs": [
    {
     "name": "stdout",
     "output_type": "stream",
     "text": [
      " pYtHoN\n"
     ]
    }
   ],
   "source": [
    "p=\"PYTHON\"\n",
    "s=\" \"\n",
    "for i in range(len(p)):\n",
    "    if i%2:\n",
    "        s=s+p[i].upper()\n",
    "    else:\n",
    "        s=s+p[i].lower()\n",
    "print(str(s))\n"
   ]
  },
  {
   "cell_type": "markdown",
   "id": "af111ba6",
   "metadata": {},
   "source": [
    "### 4. Write a python program to convert only odd indexed characters to upper case\n",
    "+ Ex: python\n",
    "+ Output: pYtHoN"
   ]
  },
  {
   "cell_type": "code",
   "execution_count": 5,
   "id": "9305605b",
   "metadata": {},
   "outputs": [
    {
     "name": "stdout",
     "output_type": "stream",
     "text": [
      " pYtHoN\n"
     ]
    }
   ],
   "source": [
    "p=\"python\"\n",
    "s=\" \"\n",
    "for i in range(len(p)):\n",
    "    if not i%2:\n",
    "        s=s+p[i].lower()\n",
    "    else:\n",
    "        s=s+p[i].upper()\n",
    "print(str(s))\n"
   ]
  },
  {
   "cell_type": "markdown",
   "id": "7ee8b52c",
   "metadata": {},
   "source": [
    "### 5. Write a python program to convert only even indexed characters to upper case\n",
    "+ Ex: python\n",
    "+ Output: - PyThOn"
   ]
  },
  {
   "cell_type": "code",
   "execution_count": 6,
   "id": "44e0a965",
   "metadata": {},
   "outputs": [
    {
     "name": "stdout",
     "output_type": "stream",
     "text": [
      " PyThOn\n"
     ]
    }
   ],
   "source": [
    "p=\"python\"\n",
    "s=\" \"\n",
    "for i in range(len(p)):\n",
    "    if  i%2:\n",
    "        s=s+p[i].lower()\n",
    "    else:\n",
    "        s=s+p[i].upper()\n",
    "print(str(s))"
   ]
  },
  {
   "cell_type": "markdown",
   "id": "08259307",
   "metadata": {},
   "source": [
    "### 6. Write a python program where you have different variable which contains your name, gender, age, phone number, father’s name and mother’s name.And by using this variable create a variable named bio-data where you will use all this variable\n",
    "+ Ex: print(bio-data)\n",
    "+ Output:- My name is …., My age is ….,My phone-no is ….,my father’s name is …,and\n",
    "my mother’s name is…\n"
   ]
  },
  {
   "cell_type": "code",
   "execution_count": 8,
   "id": "4d569db3",
   "metadata": {},
   "outputs": [
    {
     "name": "stdout",
     "output_type": "stream",
     "text": [
      "My name is:D.Praneeth\n",
      "my age is:20\n",
      "my phone no is:9640297903\n",
      "my father's name is:Srinivas\n",
      "my mother's name is:Ganga Laxmi\n"
     ]
    }
   ],
   "source": [
    "name=input(\"My name is:\")\n",
    "age=int(input(\"my age is:\"))\n",
    "phone_no=int(input(\"my phone no is:\"))\n",
    "father_name=input(\"my father's name is:\")\n",
    "mother_name=input(\"my mother's name is:\")"
   ]
  },
  {
   "cell_type": "markdown",
   "id": "72ad4f40",
   "metadata": {},
   "source": [
    "### 7. Write a python program to count how many times “@” occurred\n",
    "+ Ex: S@ndhy@\n",
    "+ Output: 2\n"
   ]
  },
  {
   "cell_type": "code",
   "execution_count": 13,
   "id": "bdbb2ea9",
   "metadata": {},
   "outputs": [
    {
     "data": {
      "text/plain": [
       "2"
      ]
     },
     "execution_count": 13,
     "metadata": {},
     "output_type": "execute_result"
    }
   ],
   "source": [
    "s=\"s@ndhy@\"\n",
    "s.count(\"@\")\n"
   ]
  },
  {
   "cell_type": "markdown",
   "id": "3551ee08",
   "metadata": {},
   "source": [
    "### 8. Write a python program to get only names from the string\n",
    "+ Ex: “name1.@gmail.com, name2.@gmail.com, name#3.@gmail.com”\n",
    "+ Output-name1, name2, name3\n"
   ]
  },
  {
   "cell_type": "code",
   "execution_count": 15,
   "id": "b488c7d2",
   "metadata": {},
   "outputs": [
    {
     "data": {
      "text/plain": [
       "'name1 ,name2 ,name3 '"
      ]
     },
     "execution_count": 15,
     "metadata": {},
     "output_type": "execute_result"
    }
   ],
   "source": [
    "p='name1.@gmail.com,name2.@gmail.com,name3.@gmail.com'\n",
    "p1=p.split(\".@gmail.com\")\n",
    "p2=\" \".join(p1)\n",
    "p2"
   ]
  },
  {
   "cell_type": "markdown",
   "id": "99c8acf6",
   "metadata": {},
   "source": [
    "### 9. Write a program to remove vowels from the entire alphabets\n",
    "+ Ex: “abcdefghijklmnopqrstuvwxyz”\n",
    "+ Output: “bcdfghjklmnpqrstvwxyz”\n"
   ]
  },
  {
   "cell_type": "code",
   "execution_count": 19,
   "id": "bcd345de",
   "metadata": {},
   "outputs": [
    {
     "name": "stdout",
     "output_type": "stream",
     "text": [
      "bcdfghjklmnpqrstvwxyz\n"
     ]
    }
   ],
   "source": [
    "s=\"abcdefghijklmnopqrstuvwxyz\"\n",
    "v=['a','e','i','o','u']\n",
    "r=\"\"\n",
    "for i in range(len(s)):\n",
    "    if s[i] not in v:\n",
    "        r=r+s[i]\n",
    "print(r)\n"
   ]
  },
  {
   "cell_type": "markdown",
   "id": "cff04240",
   "metadata": {},
   "source": [
    "### 10. Find all occurrences of a substring in a given string by ignoring the case\n",
    "+ Ex: str1 = \"Welcome to Innomatics. innomatics awesome, isn't it?\"\n",
    "+ Output: The innomatics count is: 2"
   ]
  },
  {
   "cell_type": "code",
   "execution_count": 22,
   "id": "8f5c9f63",
   "metadata": {},
   "outputs": [
    {
     "name": "stdout",
     "output_type": "stream",
     "text": [
      "The innomatics count is: 2\n"
     ]
    }
   ],
   "source": [
    "p=\"Welcome to Innomatics.innomatics\"\n",
    "p=p.lower()\n",
    "s=\"innomatics\"\n",
    "innomatics=p.count(s)\n",
    "print(\"The innomatics count is:\",innomatics)"
   ]
  },
  {
   "cell_type": "code",
   "execution_count": null,
   "id": "57037423",
   "metadata": {},
   "outputs": [],
   "source": []
  }
 ],
 "metadata": {
  "kernelspec": {
   "display_name": "Python 3 (ipykernel)",
   "language": "python",
   "name": "python3"
  },
  "language_info": {
   "codemirror_mode": {
    "name": "ipython",
    "version": 3
   },
   "file_extension": ".py",
   "mimetype": "text/x-python",
   "name": "python",
   "nbconvert_exporter": "python",
   "pygments_lexer": "ipython3",
   "version": "3.9.13"
  }
 },
 "nbformat": 4,
 "nbformat_minor": 5
}
